{
 "cells": [
  {
   "cell_type": "code",
   "execution_count": 1,
   "metadata": {},
   "outputs": [],
   "source": [
    "from metric_voting import Spatial \n",
    "import numpy as np\n",
    "import seaborn as sns\n",
    "import matplotlib.pyplot as plt\n",
    "from matplotlib.colors import ListedColormap"
   ]
  },
  {
   "cell_type": "code",
   "execution_count": 2,
   "metadata": {},
   "outputs": [],
   "source": [
    "colors = [\"#0099cd\",\"#ffca5d\",\"#00cd99\",\"#99cd00\",\"#cd0099\",\"#9900cd\",\"#8dd3c7\",\n",
    "        \"#bebada\",\"#fb8072\",\"#80b1d3\",\"#fdb462\",\"#b3de69\",\"#fccde5\",\"#bc80bd\",\n",
    "        \"#ccebc5\",\"#ffed6f\",\"#ffffb3\",\"#a6cee3\",\"#1f78b4\",\"#b2df8a\",\"#33a02c\",\n",
    "        \"#fb9a99\",\"#e31a1c\",\"#fdbf6f\",\"#ff7f00\",\"#cab2d6\",\"#6a3d9a\",\"#b15928\",\n",
    "        \"#64ffda\",\"#00B8D4\",\"#A1887F\",\"#76FF03\",\"#DCE775\",\"#B388FF\",\"#FF80AB\",\n",
    "        \"#D81B60\",\"#26A69A\",\"#FFEA00\",\"#6200EA\",\n",
    "    ]\n",
    "colors2 = colors[:6] + colors[-12::2]\n",
    "custom_colors = ListedColormap(colors2)"
   ]
  },
  {
   "cell_type": "code",
   "execution_count": 3,
   "metadata": {},
   "outputs": [],
   "source": [
    "n = 6\n",
    "m = 3\n",
    "\n",
    "k = 1"
   ]
  },
  {
   "cell_type": "code",
   "execution_count": 4,
   "metadata": {},
   "outputs": [],
   "source": [
    "# define the single set of voter and candidate paramters\n",
    "voter_params = {'loc': [0,0], 'scale': 1, 'size': 2}\n",
    "candidate_params = {'loc': [0,0], 'scale': 1, 'size': 2}\n",
    "\n",
    "# define a distance function between voters and candidates\n",
    "distance = lambda point1, point2: np.linalg.norm(point1 - point2)\n",
    "\n",
    "# Create the group spatial generator object!\n",
    "gaussian_generator = Spatial(m = m, voter_dist = np.random.normal, voter_params = voter_params,\n",
    "                    candidate_dist = np.random.normal, candidate_params = candidate_params,\n",
    "                    distance = distance)"
   ]
  },
  {
   "cell_type": "code",
   "execution_count": 5,
   "metadata": {},
   "outputs": [],
   "source": [
    "# Now each call .generate() will make a profile with random candidate and voter positions\n",
    "profile, candidate_positions, voter_positions, voter_labels = gaussian_generator.generate(n)"
   ]
  },
  {
   "cell_type": "code",
   "execution_count": 6,
   "metadata": {},
   "outputs": [
    {
     "data": {
      "text/plain": [
       "<matplotlib.legend.Legend at 0x7fb4b3662750>"
      ]
     },
     "execution_count": 6,
     "metadata": {},
     "output_type": "execute_result"
    },
    {
     "data": {
      "image/png": "[encoded data removed]",
      "text/plain": [
       "<Figure size 640x480 with 1 Axes>"
      ]
     },
     "metadata": {},
     "output_type": "display_data"
    }
   ],
   "source": [
    "# visualize the results\n",
    "pal = sns.color_palette(\"hls\", 8)\n",
    "plt.scatter(x=voter_positions[:,0], y=voter_positions[:,1], label = 'voters', color = colors[0]) \n",
    "for i in range(n):\n",
    "    plt.text(\n",
    "        voter_positions[i,0], \n",
    "        voter_positions[i,1], \n",
    "        i,\n",
    "    )\n",
    "plt.scatter(candidate_positions[:,0], candidate_positions[:,1], label = 'candidates', color = colors[1])\n",
    "for i in range(m):\n",
    "    plt.text(\n",
    "        candidate_positions[i,0], \n",
    "        candidate_positions[i,1], \n",
    "        i,\n",
    "    )\n",
    "plt.legend()"
   ]
  },
  {
   "cell_type": "code",
   "execution_count": 7,
   "metadata": {},
   "outputs": [
    {
     "data": {
      "text/plain": [
       "array([[0, 2, 0, 1, 1, 2],\n",
       "       [1, 1, 1, 2, 2, 1],\n",
       "       [2, 0, 2, 0, 0, 0]])"
      ]
     },
     "execution_count": 7,
     "metadata": {},
     "output_type": "execute_result"
    }
   ],
   "source": [
    "profile"
   ]
  },
  {
   "cell_type": "markdown",
   "metadata": {},
   "source": [
    "Equation for computing the score:\n",
    "\n",
    "$$\n",
    "\\text{cost}(B,S) = \\sum_{v\\in B}\\sum_{c\\in S} d(v,c)\n",
    "$$ \n",
    "\n",
    "\n",
    "$T$ is the winner set of candidates\n",
    "\n",
    "$$\n",
    "\\Phi_{prop}(B, T) = \\underset{\\substack{S\\subseteq T\\\\ |S| = floor(|T|\\cdot |B|/n)}}{\\text{arg min}} \\text{cost}(B,S)\n",
    "$$\n",
    "\n",
    "Let $W$ be a winner set of candidates\n",
    "$$\n",
    "I(B) = \\frac{cost(B, \\Phi(B, W))}{cost(B, \\Phi(B, C))}\n",
    "$$"
   ]
  },
  {
   "cell_type": "code",
   "execution_count": 8,
   "metadata": {},
   "outputs": [],
   "source": [
    "from metric_voting import costs"
   ]
  },
  {
   "cell_type": "code",
   "execution_count": 9,
   "metadata": {},
   "outputs": [
    {
     "data": {
      "text/plain": [
       "array([12.17000493,  8.78768077,  9.54428154])"
      ]
     },
     "execution_count": 9,
     "metadata": {},
     "output_type": "execute_result"
    }
   ],
   "source": [
    "costs(voter_positions, candidate_positions)"
   ]
  },
  {
   "cell_type": "code",
   "execution_count": 10,
   "metadata": {},
   "outputs": [
    {
     "data": {
      "text/plain": [
       "(6, 2)"
      ]
     },
     "execution_count": 10,
     "metadata": {},
     "output_type": "execute_result"
    }
   ],
   "source": [
    "voter_positions.shape"
   ]
  },
  {
   "cell_type": "code",
   "execution_count": 11,
   "metadata": {},
   "outputs": [
    {
     "data": {
      "text/plain": [
       "array([[[ 0.19256487, -1.964021  ],\n",
       "        [-1.77704762,  0.62620732],\n",
       "        [ 0.26871954, -1.49477049],\n",
       "        [-0.74893185, -0.60581427],\n",
       "        [-1.55886615, -2.05302783],\n",
       "        [-0.77253785,  0.7849239 ]]])"
      ]
     },
     "execution_count": 11,
     "metadata": {},
     "output_type": "execute_result"
    }
   ],
   "source": [
    "voter_positions[np.newaxis, :, :]"
   ]
  },
  {
   "cell_type": "code",
   "execution_count": 12,
   "metadata": {},
   "outputs": [
    {
     "data": {
      "text/plain": [
       "(3, 2)"
      ]
     },
     "execution_count": 12,
     "metadata": {},
     "output_type": "execute_result"
    }
   ],
   "source": [
    "candidate_positions.shape"
   ]
  },
  {
   "cell_type": "code",
   "execution_count": 13,
   "metadata": {},
   "outputs": [
    {
     "data": {
      "text/plain": [
       "array([[[ 0.78849691, -0.31523975]],\n",
       "\n",
       "       [[-0.29790066, -0.2474986 ]],\n",
       "\n",
       "       [[-1.21910525,  0.22703029]]])"
      ]
     },
     "execution_count": 13,
     "metadata": {},
     "output_type": "execute_result"
    }
   ],
   "source": [
    "candidate_positions[:, np.newaxis, :]"
   ]
  },
  {
   "cell_type": "code",
   "execution_count": 14,
   "metadata": {},
   "outputs": [],
   "source": [
    "diffs = voter_positions[np.newaxis, :, :] - candidate_positions[:, np.newaxis, :]"
   ]
  },
  {
   "cell_type": "code",
   "execution_count": 15,
   "metadata": {},
   "outputs": [
    {
     "data": {
      "text/plain": [
       "(3, 6, 2)"
      ]
     },
     "execution_count": 15,
     "metadata": {},
     "output_type": "execute_result"
    }
   ],
   "source": [
    "diffs.shape"
   ]
  },
  {
   "cell_type": "code",
   "execution_count": null,
   "metadata": {},
   "outputs": [],
   "source": []
  }
 ],
 "metadata": {
  "kernelspec": {
   "display_name": ".venv",
   "language": "python",
   "name": "python3"
  },
  "language_info": {
   "codemirror_mode": {
    "name": "ipython",
    "version": 3
   },
   "file_extension": ".py",
   "mimetype": "text/x-python",
   "name": "python",
   "nbconvert_exporter": "python",
   "pygments_lexer": "ipython3",
   "version": "3.12.6"
  }
 },
 "nbformat": 4,
 "nbformat_minor": 2
}
