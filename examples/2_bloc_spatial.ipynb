{
 "cells": [
  {
   "cell_type": "code",
   "execution_count": 1,
   "metadata": {},
   "outputs": [],
   "source": [
    "from metric_voting import Spatial \n",
    "import numpy as np\n",
    "import seaborn as sns\n",
    "import matplotlib.pyplot as plt\n",
    "from matplotlib.colors import ListedColormap"
   ]
  },
  {
   "cell_type": "code",
   "execution_count": 2,
   "metadata": {},
   "outputs": [],
   "source": [
    "colors = [\"#0099cd\",\"#ffca5d\",\"#00cd99\",\"#99cd00\",\"#cd0099\",\"#9900cd\",\"#8dd3c7\",\n",
    "        \"#bebada\",\"#fb8072\",\"#80b1d3\",\"#fdb462\",\"#b3de69\",\"#fccde5\",\"#bc80bd\",\n",
    "        \"#ccebc5\",\"#ffed6f\",\"#ffffb3\",\"#a6cee3\",\"#1f78b4\",\"#b2df8a\",\"#33a02c\",\n",
    "        \"#fb9a99\",\"#e31a1c\",\"#fdbf6f\",\"#ff7f00\",\"#cab2d6\",\"#6a3d9a\",\"#b15928\",\n",
    "        \"#64ffda\",\"#00B8D4\",\"#A1887F\",\"#76FF03\",\"#DCE775\",\"#B388FF\",\"#FF80AB\",\n",
    "        \"#D81B60\",\"#26A69A\",\"#FFEA00\",\"#6200EA\",\n",
    "    ]\n",
    "colors2 = colors[:6] + colors[-12::2]\n",
    "custom_colors = ListedColormap(colors2)"
   ]
  },
  {
   "cell_type": "code",
   "execution_count": 3,
   "metadata": {},
   "outputs": [],
   "source": [
    "n = 10\n",
    "m = 4\n",
    "\n",
    "k = 1"
   ]
  },
  {
   "cell_type": "code",
   "execution_count": 4,
   "metadata": {},
   "outputs": [],
   "source": [
    "# define the single set of voter and candidate parameters\n",
    "voter_params = {'loc': [0,0], 'scale': 1, 'size': 2}\n",
    "candidate_params = {'loc': [0,0], 'scale': 1, 'size': 2}\n",
    "\n",
    "# define a distance function between voters and candidates\n",
    "distance = lambda point1, point2: np.linalg.norm(point1 - point2)\n",
    "\n",
    "# Create the group spatial generator object!\n",
    "gaussian_generator = Spatial(\n",
    "    voter_dist = np.random.normal, \n",
    "    voter_params = voter_params,\n",
    "    candidate_dist = np.random.normal, \n",
    "    candidate_params = candidate_params,\n",
    "    distance = distance\n",
    ")"
   ]
  },
  {
   "cell_type": "code",
   "execution_count": 5,
   "metadata": {},
   "outputs": [],
   "source": [
    "# Now each call .generate() will make a profile with random candidate and voter positions\n",
    "profile, candidate_positions, voter_positions, voter_labels = gaussian_generator.generate(m=m, n=n)"
   ]
  },
  {
   "cell_type": "code",
   "execution_count": 6,
   "metadata": {},
   "outputs": [
    {
     "data": {
      "text/plain": [
       "<matplotlib.legend.Legend at 0x7f5a91d9af30>"
      ]
     },
     "execution_count": 6,
     "metadata": {},
     "output_type": "execute_result"
    },
    {
     "data": {
      "image/png": "[encoded data removed]",
      "text/plain": [
       "<Figure size 640x480 with 1 Axes>"
      ]
     },
     "metadata": {},
     "output_type": "display_data"
    }
   ],
   "source": [
    "# visualize the results\n",
    "pal = sns.color_palette(\"hls\", 8)\n",
    "plt.scatter(x=voter_positions[:,0], y=voter_positions[:,1], label = 'voters', color = colors[0]) \n",
    "for i in range(n):\n",
    "    plt.text(\n",
    "        voter_positions[i,0], \n",
    "        voter_positions[i,1], \n",
    "        i,\n",
    "    )\n",
    "plt.scatter(candidate_positions[:,0], candidate_positions[:,1], label = 'candidates', color = colors[1])\n",
    "for i in range(m):\n",
    "    plt.text(\n",
    "        candidate_positions[i,0], \n",
    "        candidate_positions[i,1], \n",
    "        i,\n",
    "    )\n",
    "plt.legend()"
   ]
  },
  {
   "cell_type": "code",
   "execution_count": 7,
   "metadata": {},
   "outputs": [
    {
     "data": {
      "text/plain": [
       "array([[0, 3, 0, 0, 0, 0, 0, 0, 3, 0],\n",
       "       [2, 2, 2, 2, 2, 2, 2, 2, 2, 2],\n",
       "       [3, 0, 3, 3, 3, 3, 3, 3, 0, 3],\n",
       "       [1, 1, 1, 1, 1, 1, 1, 1, 1, 1]])"
      ]
     },
     "execution_count": 7,
     "metadata": {},
     "output_type": "execute_result"
    }
   ],
   "source": [
    "profile"
   ]
  },
  {
   "cell_type": "markdown",
   "metadata": {},
   "source": [
    "Equation for computing the score:\n",
    "\n",
    "$$\n",
    "\\text{cost}(B,S) = \\sum_{v\\in B}\\sum_{c\\in S} d(v,c)\n",
    "$$ \n",
    "\n",
    "\n",
    "$T$ is the winner set of candidates\n",
    "\n",
    "$$\n",
    "\\Phi_{prop}(B, T) = \\underset{\\substack{S\\subseteq T\\\\ |S| = floor(|T|\\cdot |B|/n)}}{\\text{arg min}} \\text{cost}(B,S)\n",
    "$$\n",
    "\n",
    "Let $W$ be a winner set of candidates\n",
    "$$\n",
    "I(B) = \\frac{cost(B, \\Phi(B, W))}{cost(B, \\Phi(B, C))}\n",
    "$$"
   ]
  },
  {
   "cell_type": "code",
   "execution_count": 8,
   "metadata": {},
   "outputs": [
    {
     "data": {
      "text/plain": [
       "(10, 2)"
      ]
     },
     "execution_count": 8,
     "metadata": {},
     "output_type": "execute_result"
    }
   ],
   "source": [
    "voter_positions.shape"
   ]
  },
  {
   "cell_type": "code",
   "execution_count": 9,
   "metadata": {},
   "outputs": [
    {
     "data": {
      "text/plain": [
       "array([[[ 0.08046161, -2.70627196],\n",
       "        [ 1.58334611,  1.81653141],\n",
       "        [ 1.40650551, -0.66460181],\n",
       "        [-0.71517168, -1.37486223],\n",
       "        [ 1.03158166, -0.34520555],\n",
       "        [-0.96429486, -0.62651105],\n",
       "        [ 0.95764336, -0.65750181],\n",
       "        [-1.24725047, -1.35405663],\n",
       "        [ 0.06532804,  0.47440791],\n",
       "        [ 0.83626935, -1.59941919]]])"
      ]
     },
     "execution_count": 9,
     "metadata": {},
     "output_type": "execute_result"
    }
   ],
   "source": [
    "voter_positions[np.newaxis, :, :]"
   ]
  },
  {
   "cell_type": "code",
   "execution_count": 10,
   "metadata": {},
   "outputs": [
    {
     "data": {
      "text/plain": [
       "(4, 2)"
      ]
     },
     "execution_count": 10,
     "metadata": {},
     "output_type": "execute_result"
    }
   ],
   "source": [
    "candidate_positions.shape"
   ]
  },
  {
   "cell_type": "code",
   "execution_count": 11,
   "metadata": {},
   "outputs": [
    {
     "data": {
      "text/plain": [
       "array([[[-0.95419172, -0.17502657]],\n",
       "\n",
       "       [[-1.98760133,  1.63819293]],\n",
       "\n",
       "       [[-0.86875765,  0.69529535]],\n",
       "\n",
       "       [[-0.54056357,  1.17085415]]])"
      ]
     },
     "execution_count": 11,
     "metadata": {},
     "output_type": "execute_result"
    }
   ],
   "source": [
    "candidate_positions[:, np.newaxis, :]"
   ]
  },
  {
   "cell_type": "code",
   "execution_count": 12,
   "metadata": {},
   "outputs": [],
   "source": [
    "diffs = voter_positions[np.newaxis, :, :] - candidate_positions[:, np.newaxis, :]"
   ]
  },
  {
   "cell_type": "code",
   "execution_count": 13,
   "metadata": {},
   "outputs": [
    {
     "data": {
      "text/plain": [
       "(4, 10, 2)"
      ]
     },
     "execution_count": 13,
     "metadata": {},
     "output_type": "execute_result"
    }
   ],
   "source": [
    "diffs.shape"
   ]
  },
  {
   "cell_type": "code",
   "execution_count": 14,
   "metadata": {},
   "outputs": [],
   "source": [
    "from metric_voting.utils import borda_matrix, remove_candidates"
   ]
  },
  {
   "cell_type": "code",
   "execution_count": 15,
   "metadata": {},
   "outputs": [
    {
     "data": {
      "text/plain": [
       "array([[0, 3, 0, 0, 0, 0, 0, 0, 3, 0],\n",
       "       [2, 2, 2, 2, 2, 2, 2, 2, 2, 2],\n",
       "       [3, 0, 3, 3, 3, 3, 3, 3, 0, 3],\n",
       "       [1, 1, 1, 1, 1, 1, 1, 1, 1, 1]])"
      ]
     },
     "execution_count": 15,
     "metadata": {},
     "output_type": "execute_result"
    }
   ],
   "source": [
    "profile"
   ]
  },
  {
   "cell_type": "code",
   "execution_count": 16,
   "metadata": {},
   "outputs": [
    {
     "data": {
      "text/plain": [
       "array([[4., 2., 4., 4., 4., 4., 4., 4., 2., 4.],\n",
       "       [1., 1., 1., 1., 1., 1., 1., 1., 1., 1.],\n",
       "       [3., 3., 3., 3., 3., 3., 3., 3., 3., 3.],\n",
       "       [2., 4., 2., 2., 2., 2., 2., 2., 4., 2.]])"
      ]
     },
     "execution_count": 16,
     "metadata": {},
     "output_type": "execute_result"
    }
   ],
   "source": [
    "borda_matrix(profile)"
   ]
  },
  {
   "cell_type": "code",
   "execution_count": 17,
   "metadata": {},
   "outputs": [
    {
     "data": {
      "text/plain": [
       "array([[0, 2, 0, 0, 0, 0, 0, 0, 2, 0],\n",
       "       [2, 0, 2, 2, 2, 2, 2, 2, 0, 2]])"
      ]
     },
     "execution_count": 17,
     "metadata": {},
     "output_type": "execute_result"
    }
   ],
   "source": [
    "remove_candidates(profile, [1,3])"
   ]
  },
  {
   "cell_type": "code",
   "execution_count": 18,
   "metadata": {},
   "outputs": [
    {
     "data": {
      "text/plain": [
       "np.True_"
      ]
     },
     "execution_count": 18,
     "metadata": {},
     "output_type": "execute_result"
    }
   ],
   "source": [
    "def rc(profile, cands):\n",
    "    return np.array(\n",
    "        [\n",
    "            row[~np.isin(row, cands)] \n",
    "            for row in profile.T\n",
    "        ]\n",
    "    ).T\n",
    "\n",
    "\n",
    "(rc(profile, [1,3]) == remove_candidates(profile, [1,3])).all()"
   ]
  },
  {
   "cell_type": "code",
   "execution_count": 19,
   "metadata": {},
   "outputs": [
    {
     "data": {
      "text/plain": [
       "array([[1, 2, 3, 4, 5],\n",
       "       [1, 2, 3, 4, 5],\n",
       "       [1, 2, 3, 4, 5],\n",
       "       [1, 2, 3, 4, 5],\n",
       "       [1, 2, 3, 4, 5]])"
      ]
     },
     "execution_count": 19,
     "metadata": {},
     "output_type": "execute_result"
    }
   ],
   "source": [
    "arr = [\n",
    "[1,2,3,4,5],\n",
    "[1,2,3,4,5],\n",
    "[1,2,3,4,5],\n",
    "[1,2,3,4,5],\n",
    "[1,2,3,4,5],\n",
    "]\n",
    "\n",
    "np.vstack(arr)"
   ]
  },
  {
   "cell_type": "code",
   "execution_count": null,
   "metadata": {},
   "outputs": [],
   "source": [
    "from metric_voting import GroupSpatial\n",
    "\n",
    "\n",
    "gs = GroupSpatial(voter_groups=4, candidate_groups=2)"
   ]
  },
  {
   "cell_type": "code",
   "execution_count": null,
   "metadata": {},
   "outputs": [
    {
     "name": "stdout",
     "output_type": "stream",
     "text": [
      "====================================================================================================\n",
      "[[0, 0], [1]]\n",
      "====================================================================================================\n",
      "[0 0 1]\n",
      "====================================================================================================\n",
      "[0 0 1]\n",
      "====================================================================================================\n"
     ]
    },
    {
     "data": {
      "text/plain": [
       "(array([[0, 0, 0],\n",
       "        [1, 1, 1]]),\n",
       " array([[0.4456611 , 0.72950394],\n",
       "        [0.8644818 , 0.31362121]]),\n",
       " array([[0.40724299, 0.4272921 ],\n",
       "        [0.51794747, 0.55266503],\n",
       "        [0.09834605, 0.21822152]]),\n",
       " array([0, 0, 1]))"
      ]
     },
     "execution_count": 21,
     "metadata": {},
     "output_type": "execute_result"
    }
   ],
   "source": [
    "gs.generate(4,2,[2, 0, 1, 1],[1,1])"
   ]
  },
  {
   "cell_type": "code",
   "execution_count": 22,
   "metadata": {},
   "outputs": [],
   "source": [
    "from metric_voting import SNTV, Bloc"
   ]
  },
  {
   "cell_type": "code",
   "execution_count": 23,
   "metadata": {},
   "outputs": [],
   "source": [
    "profile = np.array([\n",
    "       [1, 3, 1, 3, 3, 0, 2, 3, 2, 1],\n",
    "       [0, 0, 0, 0, 0, 1, 3, 0, 0, 0],\n",
    "       [3, 2, 3, 2, 1, 3, 0, 2, 3, 3],\n",
    "       [2, 1, 2, 1, 2, 2, 1, 1, 1, 2]\n",
    "    ])\n"
   ]
  },
  {
   "cell_type": "code",
   "execution_count": 24,
   "metadata": {},
   "outputs": [
    {
     "data": {
      "text/plain": [
       "array([0, 3])"
      ]
     },
     "execution_count": 24,
     "metadata": {},
     "output_type": "execute_result"
    }
   ],
   "source": [
    "Bloc(profile=profile, k=2)"
   ]
  },
  {
   "cell_type": "code",
   "execution_count": 25,
   "metadata": {},
   "outputs": [
    {
     "data": {
      "text/plain": [
       "array([[4, 5, 4, 5, 4, 4, 5, 5, 5, 4]])"
      ]
     },
     "execution_count": 25,
     "metadata": {},
     "output_type": "execute_result"
    }
   ],
   "source": [
    "np.array([np.sum(profile[[0,1,2]], axis = 0)])"
   ]
  },
  {
   "cell_type": "code",
   "execution_count": 26,
   "metadata": {},
   "outputs": [
    {
     "data": {
      "text/plain": [
       "array([1, 1, 1, 1, 1, 1, 1, 1, 1, 1])"
      ]
     },
     "execution_count": 26,
     "metadata": {},
     "output_type": "execute_result"
    }
   ],
   "source": [
    "np.sum(np.sort(profile, axis=0)[:2, :], axis=0)"
   ]
  },
  {
   "cell_type": "markdown",
   "metadata": {},
   "source": []
  }
 ],
 "metadata": {
  "kernelspec": {
   "display_name": ".venv",
   "language": "python",
   "name": "python3"
  },
  "language_info": {
   "codemirror_mode": {
    "name": "ipython",
    "version": 3
   },
   "file_extension": ".py",
   "mimetype": "text/x-python",
   "name": "python",
   "nbconvert_exporter": "python",
   "pygments_lexer": "ipython3",
   "version": "3.12.6"
  }
 },
 "nbformat": 4,
 "nbformat_minor": 2
}
