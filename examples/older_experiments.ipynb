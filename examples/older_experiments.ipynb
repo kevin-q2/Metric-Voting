{
 "cells": [
  {
   "cell_type": "code",
   "execution_count": null,
   "id": "b9f8477f-2d02-4ce3-a22e-2a50379c59ed",
   "metadata": {},
   "outputs": [],
   "source": [
    "# samples a single point uniformly from a disc with defined radius\n",
    "def sample_uniform_disc(radius=1):\n",
    "    # Sample angles uniformly from 0 to 2*pi\n",
    "    theta = np.random.uniform(0, 2 * np.pi, 1)\n",
    "    \n",
    "    # Sample radii with correct distribution\n",
    "    r = radius * np.sqrt(np.random.uniform(0, 1, 1))\n",
    "    \n",
    "    # Convert polar coordinates to Cartesian coordinates\n",
    "    x = r * np.cos(theta)\n",
    "    y = r * np.sin(theta)\n",
    "    return np.column_stack((x, y))[0]\n",
    "\n",
    "voter_params = {'radius': 1}\n",
    "candidate_params = {'radius': 1}\n",
    "distance = lambda point1, point2: np.linalg.norm(point1 - point2)\n",
    "\n",
    "disc_generator = Spatial(voter_dist = sample_uniform_disc, voter_params = voter_params,\n",
    "                    candidate_dist = sample_uniform_disc, candidate_params = candidate_params,\n",
    "                    distance = distance)"
   ]
  },
  {
   "cell_type": "markdown",
   "id": "e800da97-5823-46a8-ad71-672e549df7a1",
   "metadata": {},
   "source": [
    "# Voronoi Generation"
   ]
  },
  {
   "cell_type": "code",
   "execution_count": 1,
   "id": "c1440988-8b5a-41c9-bbf0-67742a32faa9",
   "metadata": {},
   "outputs": [],
   "source": [
    "import math\n",
    "from itertools import combinations, permutations\n",
    "#from scipy.spatial import ConvexHull\n",
    "#from matplotlib.path import Path\n",
    "from scipy.optimize import linprog\n",
    "#from scipy.spatial import Delaunay"
   ]
  },
  {
   "cell_type": "code",
   "execution_count": null,
   "id": "ace8fe3b-d809-4f7e-8410-25aab8e3cee8",
   "metadata": {},
   "outputs": [],
   "source": [
    "lines = np.zeros((math.comb(m,2), 3))\n",
    "\n",
    "for i, candidate_pair in enumerate(combinations(range(m), 2)):\n",
    "    c1 = candidate_pair[0]\n",
    "    c2 = candidate_pair[1]  \n",
    "    slope = (candidate_positions[c2,1] - candidate_positions[c1,1]) / (candidate_positions[c2,0] - candidate_positions[c1,0])\n",
    "    slope = -1/slope\n",
    "    midpoint = np.mean(candidate_positions[candidate_pair,:], axis = 0)\n",
    "    lines[i, 0] = slope\n",
    "    lines[i, 1] = -1\n",
    "    lines[i, 2] = midpoint[1] - slope*midpoint[0]\n",
    "    \n",
    "border = np.array([[0,1,0], [0,1,-1], [1,0,0], [1,0,-1]])\n",
    "lines = np.vstack((lines,border))\n",
    "    \n",
    "vertices = []\n",
    "for i, line_pair in enumerate(combinations(range(len(lines)), 2)):\n",
    "    l1 = line_pair[0]\n",
    "    l2 = line_pair[1]\n",
    "    \n",
    "    a1, b1, c1 = lines[l1,:]\n",
    "    a2, b2, c2 = lines[l2,:]\n",
    "    \n",
    "    # Create the coefficient matrix and the constant vector\n",
    "    A = np.array([[a1, b1], [a2, b2]])\n",
    "    B = np.array([-c1, -c2])\n",
    "    \n",
    "    # Solve the system of equations\n",
    "    try:\n",
    "        intersection = np.linalg.solve(A, B)\n",
    "        if intersection[0] >= 0 and intersection[0] <= 1:\n",
    "            if intersection[1] >= 0 and intersection[1] <= 1:\n",
    "                vertices.append(intersection)\n",
    "    except np.linalg.LinAlgError:\n",
    "        pass\n",
    "    \n",
    "vertices = np.array(vertices)"
   ]
  },
  {
   "cell_type": "code",
   "execution_count": null,
   "id": "3e050ee7-f48b-4557-bb6f-60148ef3e3cc",
   "metadata": {},
   "outputs": [],
   "source": [
    "hull1 = [8, 3, 0]\n",
    "hull2 = [3, 12, 6, 0]\n",
    "hull3 = [6, 10, 7, 0]\n",
    "hull4 = [7, 2, 0]\n",
    "hull5 = [2, 9, 5, 0]\n",
    "hull6 = [5, 11, 8, 0]\n",
    "\n",
    "hulls = [hull1,hull2,hull3,hull4,hull5,hull6]\n",
    "hulls = [vertices[h,:] for h in hulls]\n",
    "hulls = [ConvexHull(h) for h in hulls]\n",
    "\n",
    "areas = [h.volume for h in hulls]"
   ]
  },
  {
   "cell_type": "code",
   "execution_count": null,
   "id": "d0d608b9-b4e6-4542-8f3a-93f77dea6d2b",
   "metadata": {},
   "outputs": [],
   "source": [
    "def in_hull(points, x):\n",
    "    n_points = len(points)\n",
    "    n_dim = len(x)\n",
    "    c = np.zeros(n_points)\n",
    "    A = np.r_[points.T,np.ones((1,n_points))]\n",
    "    b = np.r_[x, np.ones(1)]\n",
    "    lp = linprog(c, A_eq=A, b_eq=b)\n",
    "    return lp.success"
   ]
  },
  {
   "cell_type": "code",
   "execution_count": null,
   "id": "f1971894-3006-4eb2-8214-ae7663ee9108",
   "metadata": {},
   "outputs": [],
   "source": [
    "def in_hull(p, hull):\n",
    "    \"\"\"\n",
    "    Test if points in `p` are in `hull`\n",
    "\n",
    "    `p` should be a `NxK` coordinates of `N` points in `K` dimensions\n",
    "    `hull` is either a scipy.spatial.Delaunay object or the `MxK` array of the \n",
    "    coordinates of `M` points in `K`dimensions for which Delaunay triangulation\n",
    "    will be computed\n",
    "    \"\"\"\n",
    "    if not isinstance(hull,Delaunay):\n",
    "        hull = Delaunay(hull)\n",
    "\n",
    "    return hull.find_simplex(p)>=0"
   ]
  },
  {
   "cell_type": "code",
   "execution_count": null,
   "id": "dc909b04-2c71-4907-9495-4f704d49b43a",
   "metadata": {},
   "outputs": [],
   "source": [
    "hull_assignment = np.random.choice(range(len(hulls)), n, p = areas)\n",
    "voter_positions = []\n",
    "\n",
    "for a in hull_assignment:\n",
    "    found = False\n",
    "    while not found:\n",
    "        random_point = np.random.uniform(0,1, size = 2)\n",
    "        #if hull_path.contains_point([0.5,1]):\n",
    "        if in_hull(random_point, hulls[a].points):\n",
    "            voter_positions.append(random_point)\n",
    "            found = True"
   ]
  },
  {
   "cell_type": "code",
   "execution_count": null,
   "id": "e1f42d95-120b-44f6-9def-c4874c59ff1e",
   "metadata": {},
   "outputs": [],
   "source": [
    "fig,ax = plt.subplots(dpi = 200)\n",
    "ax.scatter(candidate_positions[:,0], candidate_positions[:,1], s = 60, c = 'k')\n",
    "ax.scatter(voter_positions[:,0], voter_positions[:,1], c = hull_assignment, s = 30, cmap = custom_colors)\n",
    "\n",
    "x = np.linspace(0,1,10)\n",
    "\n",
    "for l in range(len(lines) - 4):\n",
    "    y = (-lines[l, 0]*x - lines[l,2])/lines[l,1]\n",
    "    ax.plot(x,y, linestyle = '--', c = 'k')\n",
    "    \n",
    "ax.vlines(x = 0, ymin = 0, ymax = 1, color = 'k')\n",
    "ax.vlines(x = 1, ymin = 0, ymax = 1, color = 'k')\n",
    "ax.hlines(y = 0, xmin = 0, xmax = 1, color = 'k')\n",
    "ax.hlines(y = 1, xmin = 0, xmax = 1, color = 'k')\n",
    "\n",
    "ax.set_ylim(-0.2,1.2)\n",
    "ax.set_xlim(-0.2,1.2)"
   ]
  },
  {
   "cell_type": "markdown",
   "id": "b0cae496-068a-41a7-9188-b94863399940",
   "metadata": {},
   "source": [
    "### Rejection Sample"
   ]
  },
  {
   "cell_type": "code",
   "execution_count": null,
   "id": "4d3d2007-85a7-48e9-9c50-1d149842dfce",
   "metadata": {},
   "outputs": [],
   "source": [
    "import votekit\n",
    "from votekit.cvr_loaders import load_scottish\n",
    "from sklearn.cluster import KMeans\n",
    "prof, seats, cand_list, cand_to_party, ward = load_scottish(\n",
    "    '../../scot-elex/5_cands/aberdeen_2022_ward11.csv'\n",
    ")"
   ]
  },
  {
   "cell_type": "code",
   "execution_count": null,
   "id": "93db3b1e-41f1-4f80-84d4-d6cfe767f0cd",
   "metadata": {},
   "outputs": [],
   "source": [
    "scot_profile = np.load('../data/scot-elex/aberdeen_2022_ward11.npy')"
   ]
  },
  {
   "cell_type": "code",
   "execution_count": null,
   "id": "9c547973-63cc-4ad5-92f8-7d23d796dce5",
   "metadata": {},
   "outputs": [],
   "source": [
    "m = scot_profile.shape[0]\n",
    "n = scot_profile.shape[1]\n",
    "k = 3\n",
    "d = 8\n",
    "#candidate_positions = np.random.uniform(0,1, size = (m,d))\n",
    "#candidate_positions = np.zeros((m,d))\n",
    "#np.fill_diagonal(candidate_positions,1)\n",
    "candidate_positions = np.random.normal(loc = -1, scale = 0.05, size = (m,d))\n",
    "np.fill_diagonal(candidate_positions[:,3:],1)\n",
    "candidate_positions[0, :3] = [-0.18, -0.30, 1.01]\n",
    "candidate_positions[1, :3] = [1.52, 0.89, -1.37]\n",
    "candidate_positions[2, :3] = [-0.47, 0.22, -0.65]\n",
    "candidate_positions[3, :3] = [-0.63, -0.87, 0.53]\n",
    "candidate_positions[4, :3] = [0.42, -0.41, -0.32]\n",
    "\n",
    "\n",
    "voter_dist_fn = np.random.uniform\n",
    "voter_dist_fn_params = {'low' : -2, 'high' : 2, 'size' : d}\n",
    "ranked_generator = RankedSpatial(\n",
    "    voter_dist_fn,\n",
    "    voter_dist_fn_params\n",
    ")"
   ]
  },
  {
   "cell_type": "code",
   "execution_count": null,
   "id": "1007cb2d-7623-4f4b-97f3-cedfcb16e9c5",
   "metadata": {},
   "outputs": [],
   "source": []
  }
 ],
 "metadata": {
  "kernelspec": {
   "display_name": "Python 3 (ipykernel)",
   "language": "python",
   "name": "python3"
  },
  "language_info": {
   "codemirror_mode": {
    "name": "ipython",
    "version": 3
   },
   "file_extension": ".py",
   "mimetype": "text/x-python",
   "name": "python",
   "nbconvert_exporter": "python",
   "pygments_lexer": "ipython3",
   "version": "3.9.20"
  }
 },
 "nbformat": 4,
 "nbformat_minor": 5
}
