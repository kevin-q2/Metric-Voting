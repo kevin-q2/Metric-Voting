{
 "cells": [
  {
   "cell_type": "markdown",
   "id": "4a94a819-0a55-433c-ae4e-b1bc2b9c9689",
   "metadata": {},
   "source": [
    "To be filled in with examples using elections classes..."
   ]
  },
  {
   "cell_type": "code",
   "execution_count": null,
   "id": "4f6631d4-61d2-4152-9cbe-fe2caa623a1a",
   "metadata": {},
   "outputs": [],
   "source": []
  }
 ],
 "metadata": {
  "kernelspec": {
   "display_name": "Python 3 (ipykernel)",
   "language": "python",
   "name": "python3"
  },
  "language_info": {
   "codemirror_mode": {
    "name": "ipython",
    "version": 3
   },
   "file_extension": ".py",
   "mimetype": "text/x-python",
   "name": "python",
   "nbconvert_exporter": "python",
   "pygments_lexer": "ipython3",
   "version": "3.9.20"
  }
 },
 "nbformat": 4,
 "nbformat_minor": 5
}
